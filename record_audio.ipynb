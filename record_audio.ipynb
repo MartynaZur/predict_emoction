{
 "cells": [
  {
   "cell_type": "code",
   "execution_count": 1,
   "metadata": {},
   "outputs": [],
   "source": [
    "import sounddevice as sd\n",
    "import numpy as np\n",
    "import librosa\n",
    "import joblib\n",
    "from scipy.io.wavfile import write"
   ]
  },
  {
   "cell_type": "code",
   "execution_count": 2,
   "metadata": {},
   "outputs": [],
   "source": [
    "def record_audio(duration=3, sample_rate=48000):\n",
    "    \"\"\"\n",
    "    Nagrywa dźwięk z mikrofonu przez określony czas.\n",
    "\n",
    "    Args:\n",
    "    - duration (int): Czas nagrywania w sekundach.\n",
    "    - sample_rate (int): Próbkowanie dźwięku.\n",
    "\n",
    "    Returns:\n",
    "    - audio_data (np.ndarray): Zarejestrowane dane audio.\n",
    "    - sample_rate (int): Próbkowanie dźwięku.\n",
    "    \"\"\"\n",
    "    print(\"Rozpoczynam nagrywanie...\")\n",
    "    audio_data = sd.rec(int(duration * sample_rate), samplerate=sample_rate, channels=1)\n",
    "    sd.wait()\n",
    "    print(\"Nagrywanie zakończone.\")\n",
    "    \n",
    "    return audio_data, sample_rate"
   ]
  },
  {
   "cell_type": "code",
   "execution_count": 3,
   "metadata": {},
   "outputs": [],
   "source": [
    "def save_audio(file_path, audio_data, sample_rate):\n",
    "    \"\"\"\n",
    "    Zapisuje dane audio do pliku WAV.\n",
    "\n",
    "    Args:\n",
    "    - file_path (str): Ścieżka do zapisu pliku audio.\n",
    "    - audio_data (np.ndarray): Dane audio do zapisania.\n",
    "    - sample_rate (int): Próbkowanie dźwięku.\n",
    "    \"\"\"\n",
    "    write(file_path, sample_rate, audio_data)"
   ]
  },
  {
   "cell_type": "code",
   "execution_count": 4,
   "metadata": {},
   "outputs": [],
   "source": [
    "def predict_emotion_from_audio(file_path, model):\n",
    "    \"\"\"\n",
    "    Przewiduje emocję na podstawie pliku audio.\n",
    "\n",
    "    Args:\n",
    "    - file_path (str): Ścieżka do pliku audio.\n",
    "    - model: Wytrenowany model klasyfikacji.\n",
    "\n",
    "    Returns:\n",
    "    - emotion (str): Przewidywana emocja.\n",
    "    \"\"\"\n",
    "    try:\n",
    "        y, sr = librosa.load(file_path, sr=48000)\n",
    "        \n",
    "        mfccs = librosa.feature.mfcc(y=y, sr=sr, n_mfcc=13)\n",
    "        mfccs = np.mean(mfccs.T, axis=0)\n",
    "        \n",
    "        mfccs = mfccs.reshape(1, -1)\n",
    "        \n",
    "        prediction = model.predict(mfccs)\n",
    "        \n",
    "        label_map = {\n",
    "            1: 'Neutral',\n",
    "            2: 'Calm',\n",
    "            3: 'Happiness',\n",
    "            4: 'Sadness',\n",
    "            5: 'Anger',\n",
    "            6: 'Fear',\n",
    "            7: 'Disgust',\n",
    "            8: 'Surprise'\n",
    "        }\n",
    "        \n",
    "        emotion = label_map.get(prediction[0], 'Unknown')\n",
    "        return emotion\n",
    "    \n",
    "    except Exception as e:\n",
    "        print(f\"Error during prediction: {e}\")\n",
    "        return 'Error'"
   ]
  },
  {
   "cell_type": "code",
   "execution_count": 5,
   "metadata": {},
   "outputs": [
    {
     "name": "stdout",
     "output_type": "stream",
     "text": [
      "Rozpoczynam nagrywanie...\n",
      "Nagrywanie zakończone.\n",
      "Przewidywana emocja: Anger\n"
     ]
    }
   ],
   "source": [
    "duration = 5\n",
    "audio_data, sample_rate = record_audio(duration=duration)\n",
    "\n",
    "audio_file_path = \"user_recording.wav\"\n",
    "save_audio(audio_file_path, audio_data, sample_rate)\n",
    "\n",
    "model = joblib.load(\"D:\\\\noc_naukowców\\\\emotion_recognition_model.joblib\")\n",
    "\n",
    "emotion = predict_emotion_from_audio(audio_file_path, model)\n",
    "print(\"Przewidywana emocja:\", emotion)"
   ]
  }
 ],
 "metadata": {
  "kernelspec": {
   "display_name": "Python 3",
   "language": "python",
   "name": "python3"
  },
  "language_info": {
   "codemirror_mode": {
    "name": "ipython",
    "version": 3
   },
   "file_extension": ".py",
   "mimetype": "text/x-python",
   "name": "python",
   "nbconvert_exporter": "python",
   "pygments_lexer": "ipython3",
   "version": "3.9.19"
  }
 },
 "nbformat": 4,
 "nbformat_minor": 2
}
